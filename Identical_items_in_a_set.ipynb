{
  "nbformat": 4,
  "nbformat_minor": 0,
  "metadata": {
    "colab": {
      "provenance": []
    },
    "kernelspec": {
      "name": "python3",
      "display_name": "Python 3"
    },
    "language_info": {
      "name": "python"
    }
  },
  "cells": [
    {
      "cell_type": "markdown",
      "source": [
        "Consider two sets as set1 and set2 such as {x1, x2, x3, x4,x5, x6} provided x is an integer. Print all the identical elements from the two sets.\n",
        "\n",
        "set1 = {1, 2, 3, 4, 5, 6}\n",
        "set2 = {3, 9, 4, 8, 7, 6}\n",
        "\n",
        "output={3, 4, 6}"
      ],
      "metadata": {
        "id": "_ZKGPlkMRFcU"
      }
    },
    {
      "cell_type": "code",
      "source": [
        "def unique_numbers(set1,set2):\n",
        "  x={x for x in set1 if x in set2}\n",
        "  print(x)"
      ],
      "metadata": {
        "id": "DX1PdcHwP8dN"
      },
      "execution_count": 14,
      "outputs": []
    },
    {
      "cell_type": "code",
      "execution_count": 15,
      "metadata": {
        "colab": {
          "base_uri": "https://localhost:8080/"
        },
        "id": "SYTr3UQUPy4r",
        "outputId": "2bb733bf-0fd9-4bac-90ce-d7b2c02027ba"
      },
      "outputs": [
        {
          "output_type": "stream",
          "name": "stdout",
          "text": [
            "{4, 5}\n"
          ]
        }
      ],
      "source": [
        "set1={1,2,3,4,5}\n",
        "set2={4,5,6,7,8}\n",
        "\n",
        "unique_numbers(set1,set2)"
      ]
    },
    {
      "cell_type": "code",
      "source": [
        "set1 = {11, 12, 31, 41, 15, 16}\n",
        "set2 = {31, 19, 41, 81, 17, 61}\n",
        "\n",
        "unique_numbers(set1,set2)"
      ],
      "metadata": {
        "colab": {
          "base_uri": "https://localhost:8080/"
        },
        "id": "oMdirfXyQM4K",
        "outputId": "5e0fc014-4da3-4975-9b24-633ff442cb66"
      },
      "execution_count": 16,
      "outputs": [
        {
          "output_type": "stream",
          "name": "stdout",
          "text": [
            "{41, 31}\n"
          ]
        }
      ]
    },
    {
      "cell_type": "code",
      "source": [],
      "metadata": {
        "id": "DhBiFtXcQdP3"
      },
      "execution_count": null,
      "outputs": []
    }
  ]
}