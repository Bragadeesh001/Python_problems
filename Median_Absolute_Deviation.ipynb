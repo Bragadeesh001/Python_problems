{
  "nbformat": 4,
  "nbformat_minor": 0,
  "metadata": {
    "colab": {
      "provenance": []
    },
    "kernelspec": {
      "name": "python3",
      "display_name": "Python 3"
    },
    "language_info": {
      "name": "python"
    }
  },
  "cells": [
    {
      "cell_type": "markdown",
      "source": [
        "Median absolute deviation\n",
        "\n",
        "Consider an array as array1 consisting of n-number numerical elements. Estimate and return the median absolute deviation of the given array."
      ],
      "metadata": {
        "id": "xZkEyEOgOXa9"
      }
    },
    {
      "cell_type": "markdown",
      "source": [
        "What is the Median Absolute Deviation. The median absolute deviation(MAD) is a robust measure of how spread out a set of data is. The variance and standard deviation are also measures of spread, but they are more affected by extremely high or extremely low values and non normality."
      ],
      "metadata": {
        "id": "3NLN8qCcOXWB"
      }
    },
    {
      "cell_type": "code",
      "execution_count": 1,
      "metadata": {
        "id": "enq939PuNPja"
      },
      "outputs": [],
      "source": [
        "import warnings\n",
        "warnings.filterwarnings(\"ignore\")"
      ]
    },
    {
      "cell_type": "code",
      "source": [
        "from scipy.stats import median_absolute_deviation\n",
        "def MedianAbsoluteDeviation(array1):\n",
        "  median_deviation=median_absolute_deviation(array1)\n",
        "  print(median_deviation)"
      ],
      "metadata": {
        "id": "eN5pPXnHNSM9"
      },
      "execution_count": 11,
      "outputs": []
    },
    {
      "cell_type": "code",
      "source": [
        "array1=[5,31,43,48,50,41,71,15,3,8,6,25,36,27,61,31]\n",
        "MedianAbsoluteDeviation(array1)"
      ],
      "metadata": {
        "colab": {
          "base_uri": "https://localhost:8080/"
        },
        "id": "JRat5ZFPOC_W",
        "outputId": "35514397-af3c-476d-8f23-f257b277b5b0"
      },
      "execution_count": 12,
      "outputs": [
        {
          "output_type": "stream",
          "name": "stdout",
          "text": [
            "24.462899999999998\n"
          ]
        }
      ]
    },
    {
      "cell_type": "code",
      "source": [],
      "metadata": {
        "id": "AbF_5URoOm4t"
      },
      "execution_count": null,
      "outputs": []
    }
  ]
}