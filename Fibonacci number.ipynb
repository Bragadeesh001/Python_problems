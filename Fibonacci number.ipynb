{
 "cells": [
  {
   "cell_type": "markdown",
   "id": "62787a3b",
   "metadata": {},
   "source": [
    "Check whether a given number N is a Fibonacci number or not.\n",
    "\n",
    "0,1,1,2,3,5,8......"
   ]
  },
  {
   "cell_type": "code",
   "execution_count": 5,
   "id": "5b980e8f",
   "metadata": {},
   "outputs": [],
   "source": [
    "def finobi_number(N):\n",
    "    f0=0\n",
    "    f1=1\n",
    "    for i in range(10):\n",
    "        f2=f1+f0\n",
    "        f0=f1\n",
    "        f1=f2\n",
    "        lst.append(f2)\n",
    "    if N in lst:\n",
    "        print('True')\n",
    "    else:\n",
    "        print('False')\n"
   ]
  },
  {
   "cell_type": "code",
   "execution_count": 6,
   "id": "63c61996",
   "metadata": {},
   "outputs": [
    {
     "name": "stdout",
     "output_type": "stream",
     "text": [
      "False\n"
     ]
    }
   ],
   "source": [
    "lst=[0,1]\n",
    "N=int(input(\"Enter the number: \"))\n",
    "finobi_number(N)"
   ]
  },
  {
   "cell_type": "code",
   "execution_count": null,
   "id": "82875a3f",
   "metadata": {},
   "outputs": [],
   "source": []
  },
  {
   "cell_type": "code",
   "execution_count": null,
   "id": "ef968ee2",
   "metadata": {},
   "outputs": [],
   "source": []
  }
 ],
 "metadata": {
  "kernelspec": {
   "display_name": "Python 3.10.4 ('hackathon')",
   "language": "python",
   "name": "python3"
  },
  "language_info": {
   "codemirror_mode": {
    "name": "ipython",
    "version": 3
   },
   "file_extension": ".py",
   "mimetype": "text/x-python",
   "name": "python",
   "nbconvert_exporter": "python",
   "pygments_lexer": "ipython3",
   "version": "3.10.4"
  },
  "vscode": {
   "interpreter": {
    "hash": "28908f907965136c0c911a16476fa350bf412782d15949e02eff065d1c6e9a20"
   }
  }
 },
 "nbformat": 4,
 "nbformat_minor": 5
}
