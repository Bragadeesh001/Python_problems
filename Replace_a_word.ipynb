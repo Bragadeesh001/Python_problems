{
  "nbformat": 4,
  "nbformat_minor": 0,
  "metadata": {
    "colab": {
      "provenance": []
    },
    "kernelspec": {
      "name": "python3",
      "display_name": "Python 3"
    },
    "language_info": {
      "name": "python"
    }
  },
  "cells": [
    {
      "cell_type": "markdown",
      "source": [
        "# Replace a word\n",
        "\n",
        "Consider three strings S, oldW and newW. Return all occurrences of the word oldW in S and replace them with the word newW.\n",
        "\n",
        "\n",
        "S = \"Machinexx xx for xx\"\n",
        "\n",
        "oldW = \"xx\"\n",
        "\n",
        "newW = \"hack\"\n",
        "\n",
        "Output: Machinehack hack for hack"
      ],
      "metadata": {
        "id": "fZidsjSYxwol"
      }
    },
    {
      "cell_type": "code",
      "execution_count": 12,
      "metadata": {
        "id": "aXFxLsruxsaG"
      },
      "outputs": [],
      "source": [
        "class Solution:\n",
        "  def replaceAll (self, S, oldW, newW):\n",
        "    S=S.replace(oldW,newW)\n",
        "    return S\n"
      ]
    },
    {
      "cell_type": "code",
      "source": [
        "obj=Solution()\n",
        "S=obj.replaceAll(\"Machinexx xx for xx\", \"xx\", \"hack\")\n",
        "print(S)"
      ],
      "metadata": {
        "colab": {
          "base_uri": "https://localhost:8080/"
        },
        "id": "XhpDlBGV1Mok",
        "outputId": "e746950e-acf5-47d1-a872-bafb56f1c990"
      },
      "execution_count": 13,
      "outputs": [
        {
          "output_type": "stream",
          "name": "stdout",
          "text": [
            "Machinehack hack for hack\n"
          ]
        }
      ]
    },
    {
      "cell_type": "code",
      "source": [
        "S=obj.replaceAll(\"xx the new oil\", \"xx\", \"data\")\n",
        "print(S)"
      ],
      "metadata": {
        "colab": {
          "base_uri": "https://localhost:8080/"
        },
        "id": "jk5KDAbcyeRS",
        "outputId": "a1834dc3-1957-4235-dc29-6d24e34ce027"
      },
      "execution_count": 14,
      "outputs": [
        {
          "output_type": "stream",
          "name": "stdout",
          "text": [
            "data the new oil\n"
          ]
        }
      ]
    },
    {
      "cell_type": "code",
      "source": [],
      "metadata": {
        "id": "v2CRxVcn2K1S"
      },
      "execution_count": null,
      "outputs": []
    }
  ]
}