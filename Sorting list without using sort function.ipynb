{
 "cells": [
  {
   "cell_type": "code",
   "execution_count": 1,
   "id": "56dc9079",
   "metadata": {},
   "outputs": [
    {
     "data": {
      "text/plain": [
       "[1, 1, 1, 2, 2, 2, 3, 3, 3, 3, 5, 5, 5, 4, 4]"
      ]
     },
     "execution_count": 1,
     "metadata": {},
     "output_type": "execute_result"
    }
   ],
   "source": [
    "n=[1,1,2,1,2,3,3,3,3,5,4,5,2,4,5]\n",
    "lst=[]\n",
    "lst1=[]\n",
    "\n",
    "# getting unique values\n",
    "\n",
    "lst=[]\n",
    "lst1=[]\n",
    "for i in n:\n",
    "    if i not in lst:\n",
    "        lst.append(i)\n",
    "\n",
    "for i in lst:\n",
    "   for x in n:\n",
    "    if x==i:\n",
    "        lst1.append(i)\n",
    "    \n",
    "lst1"
   ]
  },
  {
   "cell_type": "code",
   "execution_count": null,
   "id": "b263e1b9",
   "metadata": {},
   "outputs": [],
   "source": []
  }
 ],
 "metadata": {
  "kernelspec": {
   "display_name": "Python 3.9.12 ('base')",
   "language": "python",
   "name": "python3"
  },
  "language_info": {
   "codemirror_mode": {
    "name": "ipython",
    "version": 3
   },
   "file_extension": ".py",
   "mimetype": "text/x-python",
   "name": "python",
   "nbconvert_exporter": "python",
   "pygments_lexer": "ipython3",
   "version": "3.9.12"
  },
  "vscode": {
   "interpreter": {
    "hash": "cfe49831ac8a4249923828765792be5e3ebc25d7f260467c4cdba42e15ef807d"
   }
  }
 },
 "nbformat": 4,
 "nbformat_minor": 5
}
