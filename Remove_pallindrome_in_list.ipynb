{
  "nbformat": 4,
  "nbformat_minor": 0,
  "metadata": {
    "colab": {
      "provenance": []
    },
    "kernelspec": {
      "name": "python3",
      "display_name": "Python 3"
    },
    "language_info": {
      "name": "python"
    }
  },
  "cells": [
    {
      "cell_type": "markdown",
      "source": [
        "Consider a list of lists as list1 consisting of the integer elements. Remove all the elements from the list with palindrome equivalent elements and print the resultant list.\n",
        "\n",
        "input:\n",
        "list1 = [39,93,27,72,51,42]\n",
        "\n",
        "output:\n",
        "[51, 42]"
      ],
      "metadata": {
        "id": "9WQ3OIm0dLdU"
      }
    },
    {
      "cell_type": "code",
      "source": [
        "x=[39,93,27,72,51,42]\n",
        "y=[]\n",
        "for j in x:\n",
        "  divide=0\n",
        "  multi=0\n",
        "  b=j\n",
        "  for i in range(len(str(j))):\n",
        "    divide=j%10\n",
        "    result=(divide)+multi\n",
        "    multi=result*10\n",
        "    j=j//10\n",
        "  if result not in x:\n",
        "   y.append(b)\n",
        "print(y)  "
      ],
      "metadata": {
        "colab": {
          "base_uri": "https://localhost:8080/"
        },
        "id": "qdWgCpk5VYUS",
        "outputId": "525cee3a-2eaf-4ef0-8f21-e7a2f8d0f060"
      },
      "execution_count": 55,
      "outputs": [
        {
          "output_type": "stream",
          "name": "stdout",
          "text": [
            "[51, 42]\n"
          ]
        }
      ]
    }
  ]
}