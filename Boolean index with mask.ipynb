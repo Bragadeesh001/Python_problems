{
 "cells": [
  {
   "cell_type": "markdown",
   "id": "6e3b6dd6",
   "metadata": {},
   "source": [
    "### Extract from a dataframe using boolean indexing with mask variable\n",
    "Consider a dictionary as dict1 made up of student details containing student names and their respective countries. First, create a dataframe using the given dictionary. After that, create a new dataframe of the students with Country as N by creating a mask variable for the given condition.\n",
    "\n",
    "dict1 = \n",
    "{\"Name\":[\"Harshitha\",\"Sugesh\",\"Aswin\",\"Shivani\",\"Sumesh\",\"Arivu\"],\n",
    " \"Country\":[\"India\",\"New Zealand\",\"Mars\",\"USA\",\"Germany\",\"Australia\"]}\n",
    " \n",
    "N = \"Mars\""
   ]
  },
  {
   "cell_type": "code",
   "execution_count": 106,
   "id": "08f5744c",
   "metadata": {},
   "outputs": [],
   "source": [
    "import pandas as pd\n",
    "def split_mask_df(dict1,N):\n",
    "  df=pd.DataFrame(dict1)\n",
    "  mask=df.Country==N\n",
    "  print(df[mask])"
   ]
  },
  {
   "cell_type": "code",
   "execution_count": 107,
   "id": "38f9c52e",
   "metadata": {},
   "outputs": [
    {
     "name": "stdout",
     "output_type": "stream",
     "text": [
      "Enter the country: India\n",
      "        Name Country\n",
      "0  Harshitha   India\n"
     ]
    }
   ],
   "source": [
    "N=input('Enter the country: ')\n",
    "split_mask_df(dict1,N)"
   ]
  },
  {
   "cell_type": "code",
   "execution_count": null,
   "id": "a4ce032a",
   "metadata": {},
   "outputs": [],
   "source": []
  },
  {
   "cell_type": "code",
   "execution_count": null,
   "id": "2c772002",
   "metadata": {},
   "outputs": [],
   "source": []
  },
  {
   "cell_type": "code",
   "execution_count": null,
   "id": "2b27b96d",
   "metadata": {},
   "outputs": [],
   "source": []
  },
  {
   "cell_type": "code",
   "execution_count": null,
   "id": "aa48df18",
   "metadata": {},
   "outputs": [],
   "source": []
  },
  {
   "cell_type": "code",
   "execution_count": null,
   "id": "9b86c890",
   "metadata": {},
   "outputs": [],
   "source": []
  },
  {
   "cell_type": "code",
   "execution_count": null,
   "id": "bfaf358d",
   "metadata": {},
   "outputs": [],
   "source": []
  },
  {
   "cell_type": "code",
   "execution_count": null,
   "id": "65a03d77",
   "metadata": {},
   "outputs": [],
   "source": []
  },
  {
   "cell_type": "code",
   "execution_count": null,
   "id": "8172da1a",
   "metadata": {},
   "outputs": [],
   "source": []
  }
 ],
 "metadata": {
  "kernelspec": {
   "display_name": "Python 3 (ipykernel)",
   "language": "python",
   "name": "python3"
  },
  "language_info": {
   "codemirror_mode": {
    "name": "ipython",
    "version": 3
   },
   "file_extension": ".py",
   "mimetype": "text/x-python",
   "name": "python",
   "nbconvert_exporter": "python",
   "pygments_lexer": "ipython3",
   "version": "3.10.4"
  }
 },
 "nbformat": 4,
 "nbformat_minor": 5
}
