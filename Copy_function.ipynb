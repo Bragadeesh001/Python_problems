{
  "nbformat": 4,
  "nbformat_minor": 0,
  "metadata": {
    "colab": {
      "provenance": []
    },
    "kernelspec": {
      "name": "python3",
      "display_name": "Python 3"
    },
    "language_info": {
      "name": "python"
    }
  },
  "cells": [
    {
      "cell_type": "markdown",
      "source": [
        "# Copy function\n",
        "\n",
        "Copy a given dictionary dict1 to a new dictionary dict2."
      ],
      "metadata": {
        "id": "CPMQnwTRLEBZ"
      }
    },
    {
      "cell_type": "code",
      "execution_count": 1,
      "metadata": {
        "id": "SmSWcDGOK9_K"
      },
      "outputs": [],
      "source": [
        "def copyDictionary(dict1):\n",
        "  dict2=dict1.copy()\n",
        "  print(dict2)"
      ]
    },
    {
      "cell_type": "code",
      "source": [
        "dict1 = {\"a\":1,\"b\":2,\"c\":3,\"d\":4}\n",
        "copyDictionary(dict1)"
      ],
      "metadata": {
        "colab": {
          "base_uri": "https://localhost:8080/"
        },
        "id": "OFH9_SIELV_h",
        "outputId": "b4d02776-84b9-41b6-d9c2-6fffc5865cba"
      },
      "execution_count": 2,
      "outputs": [
        {
          "output_type": "stream",
          "name": "stdout",
          "text": [
            "{'a': 1, 'b': 2, 'c': 3, 'd': 4}\n"
          ]
        }
      ]
    },
    {
      "cell_type": "code",
      "source": [],
      "metadata": {
        "id": "XKA-Uq9aLcK9"
      },
      "execution_count": null,
      "outputs": []
    }
  ]
}