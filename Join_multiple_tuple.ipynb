{
  "nbformat": 4,
  "nbformat_minor": 0,
  "metadata": {
    "colab": {
      "provenance": []
    },
    "kernelspec": {
      "name": "python3",
      "display_name": "Python 3"
    },
    "language_info": {
      "name": "python"
    }
  },
  "cells": [
    {
      "cell_type": "code",
      "source": [],
      "metadata": {
        "id": "Q0ooAGm9FGEK"
      },
      "execution_count": null,
      "outputs": []
    },
    {
      "cell_type": "markdown",
      "source": [
        "# Join multiple tuples\n",
        "\n",
        "Consider three tuples as tuple1, tuple2 and tuple3. Print all the elements of tuple1, tuple2 and tuple3 in a single tuple."
      ],
      "metadata": {
        "id": "hEQ56BgMFW75"
      }
    },
    {
      "cell_type": "code",
      "source": [
        "def add(tuple1,tuple2,tuple3):\n",
        "  tuple4=tuple1+tuple2+tuple3\n",
        "  print(tuple4)"
      ],
      "metadata": {
        "id": "AMQ7GvWmFIP2"
      },
      "execution_count": 5,
      "outputs": []
    },
    {
      "cell_type": "code",
      "execution_count": 6,
      "metadata": {
        "id": "C6QQETb-D9cd"
      },
      "outputs": [],
      "source": [
        "tuple1 = (1,2,3)\n",
        "tuple2 = (\"r9\",\"m10\",\"b23\")\n",
        "tuple3 = (17,23,9)"
      ]
    },
    {
      "cell_type": "code",
      "source": [
        "add(tuple1,tuple2,tuple3)"
      ],
      "metadata": {
        "colab": {
          "base_uri": "https://localhost:8080/"
        },
        "id": "-DVKwofjFIUo",
        "outputId": "ad979e83-0a57-432e-f792-945438df3ff5"
      },
      "execution_count": 7,
      "outputs": [
        {
          "output_type": "stream",
          "name": "stdout",
          "text": [
            "(1, 2, 3, 'r9', 'm10', 'b23', 17, 23, 9)\n"
          ]
        }
      ]
    },
    {
      "cell_type": "code",
      "source": [],
      "metadata": {
        "id": "S8GM8IWbEsmW"
      },
      "execution_count": null,
      "outputs": []
    }
  ]
}