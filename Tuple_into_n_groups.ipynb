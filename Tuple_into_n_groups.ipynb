{
  "nbformat": 4,
  "nbformat_minor": 0,
  "metadata": {
    "colab": {
      "provenance": []
    },
    "kernelspec": {
      "name": "python3",
      "display_name": "Python 3"
    },
    "language_info": {
      "name": "python"
    }
  },
  "cells": [
    {
      "cell_type": "markdown",
      "source": [
        "# A tuple into n number of groups\n",
        "\n",
        "Consider a tuple as tuple1 made up of n number of elements such as (a, b, c) provided a, b, and c can be any datatype. Now write a pDivide the tuple into smaller groups of tuple size three and print the resultant tuple."
      ],
      "metadata": {
        "id": "_Aob8LgPa8ot"
      }
    },
    {
      "cell_type": "code",
      "execution_count": 49,
      "metadata": {
        "id": "SV7j-rSlTO5b"
      },
      "outputs": [],
      "source": [
        "tuple1 = (10,\"aim\",20,\"machine\",30,\"hack\",40,\"python\",60)"
      ]
    },
    {
      "cell_type": "code",
      "source": [
        "res=tuple(tuple1[x:x+3] for x in range (0,len(tuple1),3))"
      ],
      "metadata": {
        "id": "gWA5dwTKaXb8"
      },
      "execution_count": 50,
      "outputs": []
    },
    {
      "cell_type": "code",
      "source": [
        "print(res)"
      ],
      "metadata": {
        "colab": {
          "base_uri": "https://localhost:8080/"
        },
        "id": "eus9w5p5auOK",
        "outputId": "1f509f9c-05af-4c10-fce9-c5f77c0f5b75"
      },
      "execution_count": 51,
      "outputs": [
        {
          "output_type": "stream",
          "name": "stdout",
          "text": [
            "((10, 'aim', 20), ('machine', 30, 'hack'), (40, 'python', 60))\n"
          ]
        }
      ]
    },
    {
      "cell_type": "code",
      "source": [],
      "metadata": {
        "id": "0I_LqKZYawFq"
      },
      "execution_count": null,
      "outputs": []
    }
  ]
}