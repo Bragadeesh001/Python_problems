{
  "nbformat": 4,
  "nbformat_minor": 0,
  "metadata": {
    "colab": {
      "provenance": []
    },
    "kernelspec": {
      "name": "python3",
      "display_name": "Python 3"
    },
    "language_info": {
      "name": "python"
    }
  },
  "cells": [
    {
      "cell_type": "markdown",
      "source": [
        "Obtain a list containing all the prime numbers within the range K to N. Assume K and N are also integers.\n",
        "\n",
        "Example 1: \n",
        "\n",
        "Input:\n",
        "\n",
        "K = 1\n",
        "N = 15\n",
        "\n",
        "output: [2, 3, 5, 7, 11, 13]"
      ],
      "metadata": {
        "id": "pys5AEEfVLLD"
      }
    },
    {
      "cell_type": "code",
      "execution_count": 32,
      "metadata": {
        "id": "8GUsdszhVIdq"
      },
      "outputs": [],
      "source": [
        "def primeNumbers(K,N):\n",
        "  list1=[]\n",
        "  for n in range(K,N):\n",
        "   status = True\n",
        "   if n < 2:\n",
        "    status = False\n",
        "   else:\n",
        "    for i in range(2,n):\n",
        "        if n % i == 0:\n",
        "            status = False\n",
        "    if status==True:\n",
        "        list1.append(n)\n",
        "  return list1"
      ]
    },
    {
      "cell_type": "code",
      "source": [
        "primeNumbers(1,15)"
      ],
      "metadata": {
        "colab": {
          "base_uri": "https://localhost:8080/"
        },
        "id": "vJZf8MslV-Te",
        "outputId": "f76e1148-e96a-42a1-ff09-ceb03dafa635"
      },
      "execution_count": 33,
      "outputs": [
        {
          "output_type": "execute_result",
          "data": {
            "text/plain": [
              "[2, 3, 5, 7, 11, 13]"
            ]
          },
          "metadata": {},
          "execution_count": 33
        }
      ]
    },
    {
      "cell_type": "code",
      "source": [
        "4%2"
      ],
      "metadata": {
        "colab": {
          "base_uri": "https://localhost:8080/"
        },
        "id": "Fwnqh1HBX7_w",
        "outputId": "1041b8cd-5ec6-4d4e-c46e-0bc8260cb567"
      },
      "execution_count": 12,
      "outputs": [
        {
          "output_type": "execute_result",
          "data": {
            "text/plain": [
              "0"
            ]
          },
          "metadata": {},
          "execution_count": 12
        }
      ]
    },
    {
      "cell_type": "code",
      "source": [],
      "metadata": {
        "id": "cSEt7MPSX-pK"
      },
      "execution_count": null,
      "outputs": []
    }
  ]
}