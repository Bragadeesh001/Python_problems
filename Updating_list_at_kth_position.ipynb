{
  "nbformat": 4,
  "nbformat_minor": 0,
  "metadata": {
    "colab": {
      "provenance": []
    },
    "kernelspec": {
      "name": "python3",
      "display_name": "Python 3"
    },
    "language_info": {
      "name": "python"
    }
  },
  "cells": [
    {
      "cell_type": "markdown",
      "source": [
        "# Updation of list items\n",
        "\n",
        "Add a given element N to the K-th position of the list list1.\n",
        "\n",
        "Example 1: \n",
        "\n",
        "Input:  \n",
        "\n",
        "list1 = [1,2,3]\n",
        "N = 8\n",
        "K = 1\n",
        "\n",
        "Output: \n",
        "\n",
        "[1, 8, 2, 3]"
      ],
      "metadata": {
        "id": "I52UPFwrQkhO"
      }
    },
    {
      "cell_type": "code",
      "source": [
        "list1=[1,2,3]"
      ],
      "metadata": {
        "id": "xeSuaGZUQs6n"
      },
      "execution_count": 2,
      "outputs": []
    },
    {
      "cell_type": "code",
      "source": [
        "def updation(list1,N,K):\n",
        "  list1.insert(K,N)\n",
        "  print(list1)"
      ],
      "metadata": {
        "id": "yqcFkK4_QwLP"
      },
      "execution_count": 8,
      "outputs": []
    },
    {
      "cell_type": "code",
      "source": [
        "list1=[1,2,3]\n",
        "N=8\n",
        "K=1\n",
        "updation(list1,N,K)"
      ],
      "metadata": {
        "colab": {
          "base_uri": "https://localhost:8080/"
        },
        "id": "8Rw_1JlxQ09b",
        "outputId": "0215d2ce-9ae4-4ad7-bb55-ff77bf5b2877"
      },
      "execution_count": 9,
      "outputs": [
        {
          "output_type": "stream",
          "name": "stdout",
          "text": [
            "[1, 8, 2, 3]\n"
          ]
        }
      ]
    },
    {
      "cell_type": "code",
      "source": [],
      "metadata": {
        "id": "FclYv2hHRc6w"
      },
      "execution_count": null,
      "outputs": []
    }
  ]
}