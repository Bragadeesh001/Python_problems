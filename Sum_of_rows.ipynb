{
  "nbformat": 4,
  "nbformat_minor": 0,
  "metadata": {
    "colab": {
      "provenance": []
    },
    "kernelspec": {
      "name": "python3",
      "display_name": "Python 3"
    },
    "language_info": {
      "name": "python"
    }
  },
  "cells": [
    {
      "cell_type": "markdown",
      "source": [
        "# Sum of rows\n",
        "You are given a dictionary as dict1 consisting of n-number of keys and their respective values. First, convert the given dictionary to a pandas dataframe. After that, compute the sum of all the elements in each of the rows in the dataframe and add a new column to the existing dataframe named “sum” containing the calculated sum of rows. Finally, print the resulting data frame.\n",
        "\n",
        "\n"
      ],
      "metadata": {
        "id": "yScLfSju5y8l"
      }
    },
    {
      "cell_type": "code",
      "source": [
        "import pandas as pd"
      ],
      "metadata": {
        "id": "ZqqODnfX6rQX"
      },
      "execution_count": 1,
      "outputs": []
    },
    {
      "cell_type": "code",
      "execution_count": 5,
      "metadata": {
        "id": "Rn9JE3f25vQ-"
      },
      "outputs": [],
      "source": [
        "def sum_of_rows(df):\n",
        "  df=df.eval('Sum=a+b+c')\n",
        "  print(df)"
      ]
    },
    {
      "cell_type": "code",
      "source": [
        "dict1 = {\"a\":[5,17,96],\n",
        "        \"b\":[17,85,17],\n",
        "        \"c\" :[14,7,17]}\n",
        "\n",
        "df=pd.DataFrame(dict1)\n",
        "sum_of_rows(df)"
      ],
      "metadata": {
        "colab": {
          "base_uri": "https://localhost:8080/"
        },
        "id": "0un1iJOt67Qj",
        "outputId": "ec5299af-8e8e-4421-b20d-636abaa25620"
      },
      "execution_count": 6,
      "outputs": [
        {
          "output_type": "stream",
          "name": "stdout",
          "text": [
            "    a   b   c  Sum\n",
            "0   5  17  14   36\n",
            "1  17  85   7  109\n",
            "2  96  17  17  130\n"
          ]
        }
      ]
    },
    {
      "cell_type": "code",
      "source": [],
      "metadata": {
        "id": "JVq7zgWc7FqW"
      },
      "execution_count": null,
      "outputs": []
    }
  ]
}